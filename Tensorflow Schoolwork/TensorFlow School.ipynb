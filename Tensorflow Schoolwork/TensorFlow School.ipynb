{
 "cells": [
  {
   "cell_type": "code",
   "execution_count": 1,
   "metadata": {},
   "outputs": [],
   "source": [
    "#导入模型包\n",
    "import tensorflow as tf\n",
    "import numpy as np\n",
    "import matplotlib.pyplot as plt"
   ]
  },
  {
   "cell_type": "code",
   "execution_count": 2,
   "metadata": {},
   "outputs": [],
   "source": [
    "#加载鸢尾花数据集\n",
    "from sklearn.datasets import load_iris"
   ]
  },
  {
   "cell_type": "code",
   "execution_count": 3,
   "metadata": {},
   "outputs": [],
   "source": [
    "iris = load_iris()\n",
    "data = iris.data\n",
    "target = iris.target"
   ]
  },
  {
   "cell_type": "code",
   "execution_count": 4,
   "metadata": {},
   "outputs": [],
   "source": [
    "featrue_names = iris.feature_names"
   ]
  },
  {
   "cell_type": "code",
   "execution_count": 5,
   "metadata": {},
   "outputs": [],
   "source": [
    "#划分数据集为训练集和验证集\n",
    "from sklearn.model_selection import train_test_split\n",
    "x_train, x_test, y_train, y_test = train_test_split(iris.data, iris.target, test_size = 0.2, random_state = 1)"
   ]
  },
  {
   "cell_type": "code",
   "execution_count": 6,
   "metadata": {},
   "outputs": [],
   "source": [
    "#占位符\n",
    "x = tf.placeholder(tf.float32) #训练集\n",
    "y = tf.placeholder(tf.float32) #验证集"
   ]
  },
  {
   "cell_type": "code",
   "execution_count": 7,
   "metadata": {},
   "outputs": [],
   "source": [
    "#计算输入样本和训练样本的距离\n",
    "dist = tf.sqrt(tf.reduce_sum(tf.abs(tf.add(x, tf.negative(y))), 1))"
   ]
  },
  {
   "cell_type": "markdown",
   "metadata": {},
   "source": [
    "设计模型和训练模型"
   ]
  },
  {
   "cell_type": "code",
   "execution_count": 8,
   "metadata": {},
   "outputs": [],
   "source": [
    "def train_knn(k): #传入超参数k\n",
    "    with tf.Session() as sess:\n",
    "        #测试集所有样本的预测类别\n",
    "        pred = []\n",
    "        for i in range(len(x_test)):\n",
    "            #计算输入的测试样本与训练集的距离\n",
    "            dists = sess.run(dist, feed_dict = {x : x_train, y : x_test[i]})\n",
    "            #将距离按顺序排好，去其中前k个\n",
    "            knn = np.argsort(dists)[ : k]\n",
    "            #类别矩阵，计算各类别的样本数量\n",
    "            labels = [0, 0, 0]\n",
    "            for j in knn:\n",
    "                if(y_train[j] == 0):\n",
    "                    #若样本为第0类\n",
    "                    labels[0] = labels[0] + 1\n",
    "                elif(y_train[j] == 1):\n",
    "                    #若样本为第1类\n",
    "                    labels[1] = labels[1] + 1\n",
    "                else:\n",
    "                    #若样本为第2类\n",
    "                    labels[2] = labels[2] + 1\n",
    "            #返回类别矩阵中最大值的索引，即为该样本的预测类别\n",
    "            max_labels = np.argmax(labels)\n",
    "            #添加预测类别\n",
    "            pred.append(max_labels)\n",
    "        return pred"
   ]
  },
  {
   "cell_type": "markdown",
   "metadata": {},
   "source": [
    "验证模型"
   ]
  },
  {
   "cell_type": "code",
   "execution_count": 9,
   "metadata": {},
   "outputs": [],
   "source": [
    "def test_knn():\n",
    "    #不同k值的正确率\n",
    "    k_test = []\n",
    "    # k取值从0到10\n",
    "    k_range = range(0, 10)\n",
    "    for i in k_range:\n",
    "        # k值为i时的预测类别\n",
    "        i_pred = train_knn(i)\n",
    "        y_true = y_test\n",
    "        #计算正确率\n",
    "        acc = np.sum(np.equal(i_pred, y_true)) / len(y_test)\n",
    "        k_test.append([i, acc])\n",
    "    #输出最优的k值\n",
    "    for j in k_range:\n",
    "        acc_max = np.max(k_test[:2])\n",
    "        if(k_test[j][1] == acc_max):\n",
    "            print([j, k_test[j][1]])"
   ]
  },
  {
   "cell_type": "code",
   "execution_count": 10,
   "metadata": {},
   "outputs": [
    {
     "name": "stdout",
     "output_type": "stream",
     "text": [
      "[1, 1.0]\n",
      "[3, 1.0]\n",
      "[4, 1.0]\n"
     ]
    }
   ],
   "source": [
    "test_knn()"
   ]
  }
 ],
 "metadata": {
  "kernelspec": {
   "display_name": "Python 3",
   "language": "python",
   "name": "python3"
  },
  "language_info": {
   "codemirror_mode": {
    "name": "ipython",
    "version": 3
   },
   "file_extension": ".py",
   "mimetype": "text/x-python",
   "name": "python",
   "nbconvert_exporter": "python",
   "pygments_lexer": "ipython3",
   "version": "3.6.6"
  }
 },
 "nbformat": 4,
 "nbformat_minor": 2
}
