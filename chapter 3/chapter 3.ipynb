{
 "cells": [
  {
   "cell_type": "code",
   "execution_count": 4,
   "metadata": {},
   "outputs": [],
   "source": [
    "import tensorflow as tf"
   ]
  },
  {
   "cell_type": "code",
   "execution_count": 5,
   "metadata": {},
   "outputs": [],
   "source": [
    "img = tf.constant(1, shape = [10, 28, 28, 3])\n",
    "#有一4阶张量`img`其`shape=[10, 28, 28, 3])`，代表10张28*28像素的3通道RGB图像"
   ]
  },
  {
   "cell_type": "code",
   "execution_count": 6,
   "metadata": {},
   "outputs": [],
   "source": [
    "p1 = img[1][:][:][:]\n",
    "#如何利用索引取出第2张图片\n",
    "p2 = tf.slice(img,[1, 0, 0, 0],[1, 28, 28, 28])\n",
    "#如何利用切片取出第2张图片"
   ]
  },
  {
   "cell_type": "code",
   "execution_count": 7,
   "metadata": {},
   "outputs": [],
   "source": [
    "#使用切片与使用索引取出的一张图片有何不同\n",
    "#不知道"
   ]
  },
  {
   "cell_type": "code",
   "execution_count": 8,
   "metadata": {},
   "outputs": [],
   "source": [
    "p3 = img[0:7:2, :, :, :]\n",
    "#如何取出其中的第1、3、5、7张图片"
   ]
  },
  {
   "cell_type": "code",
   "execution_count": 9,
   "metadata": {},
   "outputs": [],
   "source": [
    "p4 = tf.slice(img,[5, 7, 7, 0],[2, 14, 14, 3])\n",
    "#如何取出第6-8张（包括6不包括8）图片中中心区域（14*14）的部分"
   ]
  },
  {
   "cell_type": "code",
   "execution_count": 12,
   "metadata": {},
   "outputs": [],
   "source": [
    "p5,p6,p7 = tf.split(img,[1,1,1],3)\n",
    "#如何将图片根据通道拆分成三份单通道图片"
   ]
  },
  {
   "cell_type": "code",
   "execution_count": 11,
   "metadata": {},
   "outputs": [],
   "source": [
    "#写出`tf.shape(img)`返回的张量的阶数以及`shape`属性的值\n",
    "#`tf.shape(img)`返回的张量的阶数为1\n",
    "#shape`属性的值为(10, 28, 28, 3)"
   ]
  }
 ],
 "metadata": {
  "kernelspec": {
   "display_name": "Python 3",
   "language": "python",
   "name": "python3"
  }
 },
 "nbformat": 4,
 "nbformat_minor": 2
}
