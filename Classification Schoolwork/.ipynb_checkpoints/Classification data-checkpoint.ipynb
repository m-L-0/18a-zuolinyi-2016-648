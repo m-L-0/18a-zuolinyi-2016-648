{
 "cells": [
  {
   "cell_type": "markdown",
   "metadata": {},
   "source": [
    "导入模块"
   ]
  },
  {
   "cell_type": "code",
   "execution_count": 37,
   "metadata": {},
   "outputs": [],
   "source": [
    "import scipy.io as sio\n",
    "import pandas as pd\n",
    "import numpy as np\n",
    "import matplotlib.pyplot as plt\n",
    "import spectral"
   ]
  },
  {
   "cell_type": "markdown",
   "metadata": {},
   "source": [
    "获取本地数据集"
   ]
  },
  {
   "cell_type": "code",
   "execution_count": 38,
   "metadata": {},
   "outputs": [
    {
     "name": "stdout",
     "output_type": "stream",
     "text": [
      "[[3688 4381 4594 ... 1064 1034 1010]\n",
      " [2579 4137 4412 ... 1051 1043 1005]\n",
      " [2581 4264 4328 ... 1054 1022 1009]\n",
      " ...\n",
      " [3186 4114 4213 ... 1045 1015 1009]\n",
      " [2586 4114 4226 ... 1023 1018 1014]\n",
      " [3189 4118 4492 ... 1034 1014 1009]]\n"
     ]
    },
    {
     "data": {
      "text/plain": [
       "(1071, 200)"
      ]
     },
     "execution_count": 38,
     "metadata": {},
     "output_type": "execute_result"
    }
   ],
   "source": [
    "datafile = 'data2_train.mat'\n",
    "file2 = sio.loadmat(datafile)\n",
    "data2 = file2['data2_train']\n",
    "print(data2)\n",
    "type(data2)\n",
    "data2.shape"
   ]
  },
  {
   "cell_type": "code",
   "execution_count": 39,
   "metadata": {},
   "outputs": [
    {
     "name": "stdout",
     "output_type": "stream",
     "text": [
      "[[3164 4384 4427 ... 1054 1025 1024]\n",
      " [3674 4257 4600 ... 1055 1029 1011]\n",
      " [2732 4137 4507 ... 1055 1030 1015]\n",
      " ...\n",
      " [3322 3990 4560 ... 1046 1015 1013]\n",
      " [2727 4110 4378 ... 1041 1019 1018]\n",
      " [3666 3994 4294 ... 1049 1010 1014]]\n"
     ]
    },
    {
     "data": {
      "text/plain": [
       "(622, 200)"
      ]
     },
     "execution_count": 39,
     "metadata": {},
     "output_type": "execute_result"
    }
   ],
   "source": [
    "datafile = 'data3_train.mat'\n",
    "file3 = sio.loadmat(datafile)\n",
    "data3 = file3['data3_train']\n",
    "print(data3)\n",
    "data3.shape"
   ]
  },
  {
   "cell_type": "code",
   "execution_count": 40,
   "metadata": {},
   "outputs": [
    {
     "name": "stdout",
     "output_type": "stream",
     "text": [
      "[[3183 3740 3851 ... 1006 1008 1000]\n",
      " [2585 3743 4105 ... 1015 1009 1003]\n",
      " [2583 3860 3847 ... 1007 1009 1000]\n",
      " ...\n",
      " [2986 3726 4013 ... 1022 1014 1004]\n",
      " [3322 3850 3924 ... 1017 1009 1004]\n",
      " [2981 3850 3936 ... 1012 1005 1004]]\n"
     ]
    },
    {
     "data": {
      "text/plain": [
       "(362, 200)"
      ]
     },
     "execution_count": 40,
     "metadata": {},
     "output_type": "execute_result"
    }
   ],
   "source": [
    "datafile = 'data5_train.mat'\n",
    "file5 = sio.loadmat(datafile)\n",
    "data5 = file5['data5_train']\n",
    "print(data5)\n",
    "data5.shape"
   ]
  },
  {
   "cell_type": "code",
   "execution_count": 41,
   "metadata": {},
   "outputs": [
    {
     "name": "stdout",
     "output_type": "stream",
     "text": [
      "[[3024 3861 3942 ... 1002 1009 1013]\n",
      " [3032 3869 4022 ... 1015 1009 1000]\n",
      " [2771 4105 3857 ... 1025 1009 1000]\n",
      " ...\n",
      " [3669 3979 4020 ... 1025 1014 1004]\n",
      " [2565 4095 4113 ... 1013  992 1000]\n",
      " [3669 3851 4193 ... 1012 1003  995]]\n"
     ]
    },
    {
     "data": {
      "text/plain": [
       "(362, 200)"
      ]
     },
     "execution_count": 41,
     "metadata": {},
     "output_type": "execute_result"
    }
   ],
   "source": [
    "datafile = 'data6_train.mat'\n",
    "file6 = sio.loadmat(datafile)\n",
    "data6 = file6['data6_train']\n",
    "print(data6)\n",
    "data5.shape"
   ]
  },
  {
   "cell_type": "code",
   "execution_count": 42,
   "metadata": {},
   "outputs": [
    {
     "name": "stdout",
     "output_type": "stream",
     "text": [
      "[[2754 4368 4419 ... 1026 1010 1004]\n",
      " [2754 3996 4419 ... 1030 1023 1013]\n",
      " [2754 4008 4411 ... 1022 1024 1005]\n",
      " ...\n",
      " [3192 4235 4313 ... 1026 1023 1000]\n",
      " [3192 4111 4313 ... 1030 1014 1008]\n",
      " [3192 4115 4313 ... 1031 1014 1013]]\n"
     ]
    },
    {
     "data": {
      "text/plain": [
       "(358, 200)"
      ]
     },
     "execution_count": 42,
     "metadata": {},
     "output_type": "execute_result"
    }
   ],
   "source": [
    "datafile = 'data8_train.mat'\n",
    "file8 = sio.loadmat(datafile)\n",
    "data8 = file8['data8_train']\n",
    "print(data8)\n",
    "data8.shape"
   ]
  },
  {
   "cell_type": "code",
   "execution_count": 43,
   "metadata": {},
   "outputs": [
    {
     "name": "stdout",
     "output_type": "stream",
     "text": [
      "[[3693 4256 4503 ... 1050 1024 1024]\n",
      " [2589 4372 4334 ... 1050 1024 1019]\n",
      " [3693 4128 4507 ... 1045 1029 1019]\n",
      " ...\n",
      " [2564 4238 4290 ... 1042 1023 1018]\n",
      " [2735 4114 4295 ... 1041 1024 1018]\n",
      " [2732 4122 4388 ... 1054 1024 1014]]\n"
     ]
    },
    {
     "data": {
      "text/plain": [
       "(729, 200)"
      ]
     },
     "execution_count": 43,
     "metadata": {},
     "output_type": "execute_result"
    }
   ],
   "source": [
    "datafile = 'data10_train.mat'\n",
    "file10 = sio.loadmat(datafile)\n",
    "data10 = file10['data10_train']\n",
    "print(data10)\n",
    "data10.shape"
   ]
  },
  {
   "cell_type": "code",
   "execution_count": 44,
   "metadata": {},
   "outputs": [
    {
     "name": "stdout",
     "output_type": "stream",
     "text": [
      "[[3711 4242 4408 ... 1064 1019 1023]\n",
      " [3711 4245 4417 ... 1042 1023 1019]\n",
      " [3711 4362 4594 ... 1044 1024 1009]\n",
      " ...\n",
      " [2728 4350 4473 ... 1040 1018 1005]\n",
      " [3154 4106 4299 ... 1040 1018 1023]\n",
      " [3154 4226 4384 ... 1045 1023 1001]]\n"
     ]
    },
    {
     "data": {
      "text/plain": [
       "(1841, 200)"
      ]
     },
     "execution_count": 44,
     "metadata": {},
     "output_type": "execute_result"
    }
   ],
   "source": [
    "datafile = 'data11_train.mat'\n",
    "file11 = sio.loadmat(datafile)\n",
    "data11 = file11['data11_train']\n",
    "print(data11)\n",
    "data11.shape"
   ]
  },
  {
   "cell_type": "code",
   "execution_count": 45,
   "metadata": {},
   "outputs": [
    {
     "name": "stdout",
     "output_type": "stream",
     "text": [
      "[[2564 4131 4333 ... 1041 1016 1010]\n",
      " [2737 4019 4418 ... 1041 1020 1019]\n",
      " [3663 4383 4321 ... 1045 1025 1015]\n",
      " ...\n",
      " [3703 4493 4599 ... 1064 1043 1009]\n",
      " [3198 4362 4683 ... 1073 1030 1018]\n",
      " [3708 4242 4594 ... 1061 1020 1023]]\n"
     ]
    },
    {
     "data": {
      "text/plain": [
       "(445, 200)"
      ]
     },
     "execution_count": 45,
     "metadata": {},
     "output_type": "execute_result"
    }
   ],
   "source": [
    "datafile = 'data12_train.mat'\n",
    "file12 = sio.loadmat(datafile)\n",
    "data12 = file12['data12_train']\n",
    "print(data12)\n",
    "data12.shape"
   ]
  },
  {
   "cell_type": "code",
   "execution_count": 46,
   "metadata": {},
   "outputs": [
    {
     "name": "stdout",
     "output_type": "stream",
     "text": [
      "[[2574 3874 4134 ... 1014 1010 1003]\n",
      " [3174 3881 4045 ... 1021 1010 1009]\n",
      " [2577 4121 4054 ... 1012 1006 1004]\n",
      " ...\n",
      " [2725 3982 4099 ... 1007 1004 1008]\n",
      " [3320 3862 4015 ... 1007 1004 1000]\n",
      " [3154 3986 4099 ... 1011  996 1003]]\n"
     ]
    },
    {
     "data": {
      "text/plain": [
       "(949, 200)"
      ]
     },
     "execution_count": 46,
     "metadata": {},
     "output_type": "execute_result"
    }
   ],
   "source": [
    "datafile = 'data14_train.mat'\n",
    "file14 = sio.loadmat(datafile)\n",
    "data14 = file14['data14_train']\n",
    "print(data14)\n",
    "data14.shape"
   ]
  },
  {
   "cell_type": "code",
   "execution_count": 47,
   "metadata": {},
   "outputs": [
    {
     "name": "stdout",
     "output_type": "stream",
     "text": [
      "[[3158 4122 4145 ... 1022 1019 1010]\n",
      " [3023 3737 4027 ... 1019 1008 1004]\n",
      " [2743 4388 4591 ... 1056 1030 1025]\n",
      " ...\n",
      " [2561 3881 4051 ... 1018  998 1015]\n",
      " [2745 4391 4335 ... 1046 1029 1019]\n",
      " [3009 3986 3967 ... 1011 1009 1000]]\n"
     ]
    },
    {
     "data": {
      "text/plain": [
       "(2310, 200)"
      ]
     },
     "execution_count": 47,
     "metadata": {},
     "output_type": "execute_result"
    }
   ],
   "source": [
    "datafile = 'data_test_final'\n",
    "test_file = sio.loadmat(datafile)\n",
    "test_data = test_file['data_test_final']\n",
    "print(test_data)\n",
    "test_data.shape"
   ]
  },
  {
   "cell_type": "markdown",
   "metadata": {},
   "source": [
    "获得数据集"
   ]
  },
  {
   "cell_type": "code",
   "execution_count": 48,
   "metadata": {},
   "outputs": [],
   "source": [
    "numbers = [1071, 622, 362, 362, 358, 729, 1841, 445, 949]\n",
    "labels = [2, 3, 5, 6, 8, 10, 11, 12, 14]\n",
    "data_i = [data2, data3, data5, data6, data8, data10, data11, data12, data14]"
   ]
  },
  {
   "cell_type": "code",
   "execution_count": 49,
   "metadata": {},
   "outputs": [
    {
     "name": "stdout",
     "output_type": "stream",
     "text": [
      "6739\n"
     ]
    }
   ],
   "source": [
    "all_number = 1071 + 622 + 362 + 362 + 358 + 729 + 1841 + 445 + 949\n",
    "print(all_number)"
   ]
  },
  {
   "cell_type": "code",
   "execution_count": 50,
   "metadata": {},
   "outputs": [],
   "source": [
    "data = []\n",
    "data_y = []\n",
    "for i in range(9):\n",
    "    for j in range(numbers[i]):\n",
    "        data.append(data_i[i][j])\n",
    "\n",
    "for i in range(9):\n",
    "    for j in range(numbers[i]):\n",
    "        data_y.append(labels[i])"
   ]
  },
  {
   "cell_type": "code",
   "execution_count": 51,
   "metadata": {},
   "outputs": [],
   "source": [
    "data = np.array(data)\n",
    "data_y = np.array(data_y)"
   ]
  },
  {
   "cell_type": "code",
   "execution_count": 52,
   "metadata": {},
   "outputs": [
    {
     "name": "stdout",
     "output_type": "stream",
     "text": [
      "[[3688 4381 4594 ... 1064 1034 1010]\n",
      " [2579 4137 4412 ... 1051 1043 1005]\n",
      " [2581 4264 4328 ... 1054 1022 1009]\n",
      " ...\n",
      " [2725 3982 4099 ... 1007 1004 1008]\n",
      " [3320 3862 4015 ... 1007 1004 1000]\n",
      " [3154 3986 4099 ... 1011  996 1003]]\n"
     ]
    }
   ],
   "source": [
    "data.shape\n",
    "print(data)"
   ]
  },
  {
   "cell_type": "markdown",
   "metadata": {},
   "source": [
    "划分数据集和训练集（3：7）"
   ]
  },
  {
   "cell_type": "code",
   "execution_count": 53,
   "metadata": {},
   "outputs": [],
   "source": [
    "from sklearn.model_selection import train_test_split\n",
    "x_train, x_test, y_train, y_test = train_test_split(data, data_y, test_size = 0.3, random_state = 3)"
   ]
  },
  {
   "cell_type": "markdown",
   "metadata": {},
   "source": [
    "训练模型"
   ]
  },
  {
   "cell_type": "code",
   "execution_count": 54,
   "metadata": {},
   "outputs": [
    {
     "data": {
      "text/plain": [
       "SVC(C=1, cache_size=200, class_weight=None, coef0=0.0,\n",
       "  decision_function_shape='ovr', degree=3, gamma=1, kernel='rbf',\n",
       "  max_iter=-1, probability=False, random_state=None, shrinking=True,\n",
       "  tol=0.001, verbose=False)"
      ]
     },
     "execution_count": 54,
     "metadata": {},
     "output_type": "execute_result"
    }
   ],
   "source": [
    "from sklearn import svm\n",
    "svc = svm.SVC(C = 1, gamma = 1)\n",
    "svc.fit(x_train, y_train)"
   ]
  },
  {
   "cell_type": "code",
   "execution_count": 55,
   "metadata": {},
   "outputs": [
    {
     "name": "stdout",
     "output_type": "stream",
     "text": [
      "1.0\n"
     ]
    }
   ],
   "source": [
    "score = svc.score(x_train, y_train)\n",
    "print(score)"
   ]
  },
  {
   "cell_type": "markdown",
   "metadata": {},
   "source": [
    "使用网格搜索法调参，优化模型"
   ]
  },
  {
   "cell_type": "code",
   "execution_count": 56,
   "metadata": {},
   "outputs": [],
   "source": [
    "from sklearn.svm import SVC"
   ]
  },
  {
   "cell_type": "code",
   "execution_count": 57,
   "metadata": {},
   "outputs": [
    {
     "name": "stdout",
     "output_type": "stream",
     "text": [
      "Best score:0.88\n",
      "Best parameters:{'gamma': 0.001, 'C': 0.001}\n"
     ]
    }
   ],
   "source": [
    "best_score = 0\n",
    "for gamma in [0.001,0.01,0.1,1,10,100]:\n",
    "    for C in [0.001,0.01,0.1,1,10,100]:\n",
    "        svc = svm.SVC(kernel = 'linear', C = C, gamma = gamma)\n",
    "        #对于每种参数可能的组合，进行一次训练；\n",
    "        svc.fit(x_train,y_train)\n",
    "        score = svc.score(x_test,y_test)\n",
    "        if score > best_score:\n",
    "            #找到表现最好的参数\n",
    "            best_score = score\n",
    "            best_parameters = {'gamma':gamma,'C':C}\n",
    "\n",
    "print(\"Best score:{:.2f}\".format(best_score))\n",
    "print(\"Best parameters:{}\".format(best_parameters))"
   ]
  },
  {
   "cell_type": "markdown",
   "metadata": {},
   "source": [
    "对测试集进行预测"
   ]
  },
  {
   "cell_type": "code",
   "execution_count": 58,
   "metadata": {},
   "outputs": [],
   "source": [
    "result = svc.predict(test_data)\n",
    "result = np.array(result)\n",
    "data_result = pd.DataFrame(result)\n",
    "data_result.to_csv('result.csv')"
   ]
  },
  {
   "cell_type": "code",
   "execution_count": null,
   "metadata": {},
   "outputs": [],
   "source": []
  },
  {
   "cell_type": "code",
   "execution_count": null,
   "metadata": {},
   "outputs": [],
   "source": []
  },
  {
   "cell_type": "code",
   "execution_count": null,
   "metadata": {},
   "outputs": [],
   "source": []
  }
 ],
 "metadata": {
  "kernelspec": {
   "display_name": "Python 3",
   "language": "python",
   "name": "python3"
  },
  "language_info": {
   "codemirror_mode": {
    "name": "ipython",
    "version": 3
   },
   "file_extension": ".py",
   "mimetype": "text/x-python",
   "name": "python",
   "nbconvert_exporter": "python",
   "pygments_lexer": "ipython3",
   "version": "3.6.6"
  }
 },
 "nbformat": 4,
 "nbformat_minor": 2
}
