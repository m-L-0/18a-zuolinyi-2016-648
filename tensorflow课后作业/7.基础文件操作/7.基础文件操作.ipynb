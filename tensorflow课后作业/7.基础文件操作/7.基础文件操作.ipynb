{
 "cells": [
  {
   "cell_type": "code",
   "execution_count": 1,
   "metadata": {},
   "outputs": [],
   "source": [
    "import tensorflow as tf"
   ]
  },
  {
   "cell_type": "code",
   "execution_count": 2,
   "metadata": {},
   "outputs": [
    {
     "name": "stdout",
     "output_type": "stream",
     "text": [
      "1.使用tf.io.read_file()可根据filename将数据读出来，之后可使用相关的解码操作解码出数据。\n",
      "f = tf.io.read_file('test.png')\n",
      "decode_img = tf.image.decode_png(f, channels=4)\n",
      "使用tf.io.write_file()写入文件。\n",
      "tf.io.write_file('new.png', f)\n",
      "\n",
      "2.解码数据\n",
      "使用tf.io.decode_raw解码张量数据\n",
      "\n",
      "3.gfile模块-文件操作模块\n",
      "（1）打开文件流\n",
      "tf.gfile.GFile或者tf.gfile.Open\n",
      "tf.gfile.FastGFile支持无阻塞的读取。\n",
      "\n",
      "可读、写、创建文件\n",
      "with tf.gfile.GFile('test.txt','w+') as f:\n",
      "\n",
      "可以给test.txt追加内容\n",
      "with tf.gfile.Open('test.txt','a') as f:\n",
      "\n",
      "只读test.txt\n",
      "with tf.gfile.FaseGFile('test.txt','r') as f:\n",
      "\n",
      "操作二进制格式的文件\n",
      "with tf.gfile.FastGFile('test.txt','wb+') as f:\n",
      "\n",
      "4.数据读取\n",
      "文件读取时，会有一个指针指向读取的位置，当调用`read`方法时，就从这个指针指向的位置开始读取，调用之后，指针的位置修改到新的未读取的位置。\n",
      "\n",
      "tf.gfile.FasrGFile.read(n = -1)\n",
      "n = -1,代表读取整个文件，n != -1,代表读取n个bytes长度\n",
      "\n",
      "使用readline方法对文件进行读取，可以读取以\\n为换行符的文件的一行内容。\n",
      "f.readline()\n",
      "f.readlines() = [line for line in f]\n",
      "读取下一行内容。\n",
      "f.next()\n",
      "\n",
      "5.其他文件操作\n"
     ]
    }
   ],
   "source": [
    "#读取README.txt文件\n",
    "with tf.gfile.FastGFile('README.txt','r') as f:\n",
    "    print(f.read())"
   ]
  },
  {
   "cell_type": "code",
   "execution_count": 3,
   "metadata": {},
   "outputs": [
    {
     "name": "stdout",
     "output_type": "stream",
     "text": [
      "1.使用tf.io.read_file()可根据filename将数据读出来，之后可使用相关的解码操作解码出数据。\n",
      "\n",
      "f = tf.io.read_file('test.png')\n",
      "\n"
     ]
    }
   ],
   "source": [
    "#读取README.txt文件的第一行和下一行\n",
    "with tf.gfile.FastGFile('README.txt','r') as f:\n",
    "    print(f.readline())\n",
    "    print(f.next())"
   ]
  },
  {
   "cell_type": "code",
   "execution_count": null,
   "metadata": {},
   "outputs": [],
   "source": []
  }
 ],
 "metadata": {
  "kernelspec": {
   "display_name": "Python 3",
   "language": "python",
   "name": "python3"
  },
  "language_info": {
   "codemirror_mode": {
    "name": "ipython",
    "version": 3
   },
   "file_extension": ".py",
   "mimetype": "text/x-python",
   "name": "python",
   "nbconvert_exporter": "python",
   "pygments_lexer": "ipython3",
   "version": "3.6.6"
  }
 },
 "nbformat": 4,
 "nbformat_minor": 2
}
